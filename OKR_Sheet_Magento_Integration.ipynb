{
  "nbformat": 4,
  "nbformat_minor": 0,
  "metadata": {
    "colab": {
      "provenance": []
    },
    "kernelspec": {
      "name": "python3",
      "display_name": "Python 3"
    },
    "language_info": {
      "name": "python"
    }
  },
  "cells": [
    {
      "cell_type": "code",
      "execution_count": 1,
      "metadata": {
        "colab": {
          "base_uri": "https://localhost:8080/",
          "height": 373
        },
        "id": "r0fycPZBurTr",
        "outputId": "3ac6d93f-ac9a-4f4d-bbbb-930f76ea8e61"
      },
      "outputs": [
        {
          "output_type": "error",
          "ename": "ModuleNotFoundError",
          "evalue": "ignored",
          "traceback": [
            "\u001b[0;31m---------------------------------------------------------------------------\u001b[0m",
            "\u001b[0;31mModuleNotFoundError\u001b[0m                       Traceback (most recent call last)",
            "\u001b[0;32m<ipython-input-1-3dec61365ba9>\u001b[0m in \u001b[0;36m<module>\u001b[0;34m\u001b[0m\n\u001b[1;32m      3\u001b[0m \u001b[0;32mimport\u001b[0m \u001b[0mpandas\u001b[0m \u001b[0;32mas\u001b[0m \u001b[0mpd\u001b[0m\u001b[0;34m\u001b[0m\u001b[0;34m\u001b[0m\u001b[0m\n\u001b[1;32m      4\u001b[0m \u001b[0;32mimport\u001b[0m \u001b[0mrequests\u001b[0m\u001b[0;34m\u001b[0m\u001b[0;34m\u001b[0m\u001b[0m\n\u001b[0;32m----> 5\u001b[0;31m \u001b[0;32mimport\u001b[0m \u001b[0mpygsheets\u001b[0m\u001b[0;34m\u001b[0m\u001b[0;34m\u001b[0m\u001b[0m\n\u001b[0m\u001b[1;32m      6\u001b[0m \u001b[0;34m\u001b[0m\u001b[0m\n\u001b[1;32m      7\u001b[0m \u001b[0mgc\u001b[0m \u001b[0;34m=\u001b[0m \u001b[0mgs\u001b[0m\u001b[0;34m.\u001b[0m\u001b[0mservice_account\u001b[0m\u001b[0;34m(\u001b[0m\u001b[0mfilename\u001b[0m\u001b[0;34m=\u001b[0m\u001b[0;34m'practical-proxy-352909-f19395748066.json'\u001b[0m\u001b[0;34m)\u001b[0m\u001b[0;34m\u001b[0m\u001b[0;34m\u001b[0m\u001b[0m\n",
            "\u001b[0;31mModuleNotFoundError\u001b[0m: No module named 'pygsheets'",
            "",
            "\u001b[0;31m---------------------------------------------------------------------------\u001b[0;32m\nNOTE: If your import is failing due to a missing package, you can\nmanually install dependencies using either !pip or !apt.\n\nTo view examples of installing some common dependencies, click the\n\"Open Examples\" button below.\n\u001b[0;31m---------------------------------------------------------------------------\u001b[0m\n"
          ],
          "errorDetails": {
            "actions": [
              {
                "action": "open_url",
                "actionText": "Open Examples",
                "url": "/notebooks/snippets/importing_libraries.ipynb"
              }
            ]
          }
        }
      ],
      "source": [
        "import re\n",
        "import gspread as gs\n",
        "import pandas as pd\n",
        "import requests\n",
        "import pygsheets\n",
        "\n",
        "gc = gs.service_account(filename='practical-proxy-352909-f19395748066.json')\n",
        "sh = gc.open_by_url('https://docs.google.com/spreadsheets/d/13Z78G2K4Yrre9pl4ElBj7W1yLW6DXZoYTsxomZQQCyQ/edit?usp=sharing')\n",
        "ws = sh.worksheet('Developer')\n",
        "df1 = pd.DataFrame(ws.get_all_records())\n",
        "js = df1.to_json(orient = 'records')\n",
        "#s2 = df.values.tolist()\n",
        "\n",
        "headers = {\n",
        "  'Authorization': 'pk_3402707_E07I22K7PR4DCIP7284OPNO1N1R0HTBM',\n",
        "  'Content-Type': 'application/json'\n",
        "}\n",
        "\n",
        "Task_Status=[]\n",
        "for i in df1[\"Task Link on Clickup (To be updated by Assignee)\"]:\n",
        "    m=re.split(\"/\",i)\n",
        "    url = 'https://api.clickup.com/api/v2/task/{}/'.format(m[4])\n",
        "    response_body = requests.get(url, headers=headers)\n",
        "    tasks = response_body.json()\n",
        "    print(tasks['status']['status'])\n",
        "    Task_Status.append(tasks['status']['status'])\n",
        "\n",
        "print(Task_Status)\n",
        "client = pygsheets.authorize(service_account_file=\"practical-proxy-352909-f19395748066.json\")\n",
        "df1[\"Status\"]=Task_Status\n",
        "sh = client.open('OKR Sheet : Magento Integration')\n",
        "wks = sh[0]\n",
        "wks.set_dataframe(df1,(1,1))\n",
        "\n",
        "\n",
        "\n"
      ]
    }
  ]
}