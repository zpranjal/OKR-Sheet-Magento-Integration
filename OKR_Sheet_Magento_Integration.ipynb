{
  "nbformat": 4,
  "nbformat_minor": 0,
  "metadata": {
    "colab": {
      "provenance": []
    },
    "kernelspec": {
      "name": "python3",
      "display_name": "Python 3"
    },
    "language_info": {
      "name": "python"
    }
  },
  "cells": [
    {
      "cell_type": "code",
      "execution_count": null,
      "metadata": {
        "id": "XKBkZ63-J6Y5"
      },
      "outputs": [],
      "source": [
        "import re\n",
        "import gspread as gs\n",
        "import pandas as pd\n",
        "import requests\n",
        "import pygsheets\n",
        "\n",
        "gc = gs.service_account(filename='practical-proxy-352909-f19395748066.json')\n",
        "sh = gc.open_by_url('https://docs.google.com/spreadsheets/d/13Z78G2K4Yrre9pl4ElBj7W1yLW6DXZoYTsxomZQQCyQ/edit?usp=sharing')\n",
        "ws = sh.worksheet('DEV')\n",
        "ws3 = sh.worksheet('CW+SEO')\n",
        "ws2 = sh.worksheet('QA')\n",
        "df1 = pd.DataFrame(ws.get_all_records())\n",
        "df3 = pd.DataFrame(ws3.get_all_records())\n",
        "df2 = pd.DataFrame(ws2.get_all_records())\n",
        "js = df1.to_json(orient = 'records')\n",
        "#s2 = df.values.tolist()\n",
        "\n",
        "\n",
        "headers = {\n",
        "  'Authorization': 'pk_3402707_E07I22K7PR4DCIP7284OPNO1N1R0HTBM',\n",
        "  'Content-Type': 'application/json'\n",
        "}\n",
        "\n",
        "Task_Status1=[]\n",
        "Task_Status3=[]\n",
        "Task_Status2=[]\n",
        "for i in df1[\"Task Link on Clickup (To be updated by Assignee)\"]:\n",
        "    m=re.split(\"/\",i)\n",
        "    url = 'https://api.clickup.com/api/v2/task/{}/'.format(m[4])\n",
        "    response_body = requests.get(url, headers=headers)\n",
        "    tasks = response_body.json()\n",
        "    print(tasks['status']['status'])\n",
        "    Task_Status1.append(tasks['status']['status'])\n",
        "\n",
        "for i in df3[\"Task Link on Clickup (To be updated by Assignee)\"]:\n",
        "    m=re.split(\"/\",i)\n",
        "    url = 'https://api.clickup.com/api/v2/task/{}/'.format(m[4])\n",
        "    response_body = requests.get(url, headers=headers)\n",
        "    tasks = response_body.json()\n",
        "    print(tasks['status']['status'])\n",
        "    Task_Status3.append(tasks['status']['status'])\n",
        "\n",
        "for i in df2[\"Task Link on Clickup (To be updated by Assignee)\"]:\n",
        "    m=re.split(\"/\",i)\n",
        "    url = 'https://api.clickup.com/api/v2/task/{}/'.format(m[4])\n",
        "    response_body = requests.get(url, headers=headers)\n",
        "    tasks = response_body.json()\n",
        "    print(tasks['status']['status'])\n",
        "    Task_Status2.append(tasks['status']['status'])\n",
        "\n",
        "client = pygsheets.authorize(service_account_file=\"practical-proxy-352909-f19395748066.json\")\n",
        "df1[\"Status\"]=Task_Status1\n",
        "df3[\"Status\"]=Task_Status3\n",
        "df2[\"Status\"]=Task_Status2\n",
        "sh = client.open('OKR Sheet : Magento Integration')\n",
        "wks = sh[0]\n",
        "wks3 = sh[2]\n",
        "wks2 = sh[1]\n",
        "wks.set_dataframe(df1,(1,1))\n",
        "wks3.set_dataframe(df3,(1,1))\n",
        "wks2.set_dataframe(df2,(1,1))"
      ]
    }
  ]
}